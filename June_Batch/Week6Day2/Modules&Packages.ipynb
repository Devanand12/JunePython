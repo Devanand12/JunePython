{
 "cells": [
  {
   "cell_type": "markdown",
   "metadata": {},
   "source": [
    "# Modules and import\n",
    "\n",
    "## What is a module?\n",
    "> Modules in Python are simply Python files with the **.py** extension, which implement a set of functions. Modules are imported from other modules using the **import** command. \n",
    "\n",
    "> The first time a module is loaded into a running Python script, it is initialized by executing the code in the module once. If another module in your code imports the same module again, it will not be loaded twice but once only - so local variables inside the module act as a \"singleton\" - they are initialized only once.\n",
    "\n",
    "\n",
    "### Two kind modules:-\n",
    "1. Build in Module or Pre_defined Modules         # Example:- math, sys, random\n",
    "2. User Defined Module"
   ]
  },
  {
   "cell_type": "code",
   "execution_count": 35,
   "metadata": {},
   "outputs": [
    {
     "name": "stdout",
     "output_type": "stream",
     "text": [
      "720\n",
      "2.302585092994046\n",
      "Squre root of 10 is 3.162278\n"
     ]
    },
    {
     "data": {
      "text/plain": [
       "3"
      ]
     },
     "execution_count": 35,
     "metadata": {},
     "output_type": "execute_result"
    }
   ],
   "source": [
    "# Some Build in Module:- use the import key for other modules \n",
    "\n",
    "import math\n",
    "\n",
    "print(math.factorial(6)) # for factorial\n",
    "print(math.log(10)) # for log\n",
    "sq = math.sqrt(10)\n",
    "print(\"Squre root of 10 is %f\" %sq)\n",
    "math.floor(3.66)"
   ]
  },
  {
   "cell_type": "code",
   "execution_count": 36,
   "metadata": {},
   "outputs": [
    {
     "name": "stdout",
     "output_type": "stream",
     "text": [
      "3.7.3 (default, Mar 27 2019, 17:13:21) [MSC v.1915 64 bit (AMD64)]\n",
      "---------------------------------------------------\n",
      "Copyright (c) 2001-2019 Python Software Foundation.\n",
      "All Rights Reserved.\n",
      "\n",
      "Copyright (c) 2000 BeOpen.com.\n",
      "All Rights Reserved.\n",
      "\n",
      "Copyright (c) 1995-2001 Corporation for National Research Initiatives.\n",
      "All Rights Reserved.\n",
      "\n",
      "Copyright (c) 1991-1995 Stichting Mathematisch Centrum, Amsterdam.\n",
      "All Rights Reserved.\n",
      "---------------------------------------------------\n",
      "['C:\\\\ProgramData\\\\Anaconda3\\\\lib\\\\site-packages\\\\ipykernel_launcher.py', '-f', 'C:\\\\Users\\\\gopir\\\\AppData\\\\Roaming\\\\jupyter\\\\runtime\\\\kernel-fbd97e6d-881a-48c8-b466-8bbd0f91c9bc.json']\n",
      "---------------------------------------------------\n",
      "C:\\ProgramData\\Anaconda3\\python.exe\n",
      "---------------------------------------------------\n",
      "('_abc', '_ast', '_bisect', '_blake2', '_codecs', '_codecs_cn', '_codecs_hk', '_codecs_iso2022', '_codecs_jp', '_codecs_kr', '_codecs_tw', '_collections', '_contextvars', '_csv', '_datetime', '_functools', '_heapq', '_imp', '_io', '_json', '_locale', '_lsprof', '_md5', '_multibytecodec', '_opcode', '_operator', '_pickle', '_random', '_sha1', '_sha256', '_sha3', '_sha512', '_signal', '_sre', '_stat', '_string', '_struct', '_symtable', '_thread', '_tracemalloc', '_warnings', '_weakref', '_winapi', 'array', 'atexit', 'audioop', 'binascii', 'builtins', 'cmath', 'errno', 'faulthandler', 'gc', 'itertools', 'marshal', 'math', 'mmap', 'msvcrt', 'nt', 'parser', 'sys', 'time', 'winreg', 'xxsubtype', 'zipimport', 'zlib')\n"
     ]
    }
   ],
   "source": [
    "# Some Build in Module:- use the import key for other modules \n",
    "import sys\n",
    "\n",
    "print(sys.version)\n",
    "print('---------------------------------------------------')\n",
    "print(sys.copyright)\n",
    "print('---------------------------------------------------')\n",
    "print(sys.argv)\n",
    "print('---------------------------------------------------')\n",
    "print(sys.executable)\n",
    "print('---------------------------------------------------')\n",
    "print(sys.builtin_module_names)"
   ]
  },
  {
   "cell_type": "code",
   "execution_count": 37,
   "metadata": {},
   "outputs": [
    {
     "name": "stdout",
     "output_type": "stream",
     "text": [
      "2019-07-07\n"
     ]
    }
   ],
   "source": [
    "import datetime\n",
    "\n",
    "tday = datetime.date.today()\n",
    "print(tday)"
   ]
  },
  {
   "cell_type": "code",
   "execution_count": 38,
   "metadata": {},
   "outputs": [
    {
     "data": {
      "text/plain": [
       "<module 'sys' (built-in)>"
      ]
     },
     "execution_count": 38,
     "metadata": {},
     "output_type": "execute_result"
    }
   ],
   "source": [
    "import cmd\n",
    "\n",
    "cmd.sys"
   ]
  },
  {
   "cell_type": "code",
   "execution_count": 40,
   "metadata": {},
   "outputs": [
    {
     "name": "stdout",
     "output_type": "stream",
     "text": [
      "123, Object Oriented Programming with Python, Ranga, []\n",
      "[23, 45, 75, 35]\n",
      "===================================\n",
      "Student[\n",
      "               number_of_marks:   4,\n",
      "                  sum_of_marks:   199,\n",
      "                  maximum_mark:   75,\n",
      "                  minimum_mark:   23,\n",
      "                  average     :   49.75\n",
      "       ] \n",
      "100, Oop Language, xxxx, [<ForModules.Review object at 0x00000238D114E128>, <ForModules.Review object at 0x00000238D114E0F0>]\n"
     ]
    }
   ],
   "source": [
    "# way 1 - import the library\n",
    "import ForModules\n",
    "\n",
    "x = ForModules.Book(100, 'Oop Language', 'xxxx')\n",
    "x.add_review(ForModules.Review(10, \"Great Book\", 5))\n",
    "x.add_review(ForModules.Review(101, \"Awesome\", 5))\n",
    "print(x)"
   ]
  },
  {
   "cell_type": "code",
   "execution_count": 41,
   "metadata": {},
   "outputs": [
    {
     "data": {
      "text/plain": [
       "['__class__',\n",
       " '__delattr__',\n",
       " '__dict__',\n",
       " '__dir__',\n",
       " '__doc__',\n",
       " '__eq__',\n",
       " '__format__',\n",
       " '__ge__',\n",
       " '__getattribute__',\n",
       " '__gt__',\n",
       " '__hash__',\n",
       " '__init__',\n",
       " '__init_subclass__',\n",
       " '__le__',\n",
       " '__lt__',\n",
       " '__module__',\n",
       " '__ne__',\n",
       " '__new__',\n",
       " '__reduce__',\n",
       " '__reduce_ex__',\n",
       " '__repr__',\n",
       " '__setattr__',\n",
       " '__sizeof__',\n",
       " '__str__',\n",
       " '__subclasshook__',\n",
       " '__weakref__',\n",
       " 'add_review',\n",
       " 'author',\n",
       " 'id',\n",
       " 'name',\n",
       " 'reviews']"
      ]
     },
     "execution_count": 41,
     "metadata": {},
     "output_type": "execute_result"
    }
   ],
   "source": [
    "# Way 2 - importing library\n",
    "from ForModules import Book\n",
    "\n",
    "y = Book(100,\"Advance Python Prog Book\", \"I don't know\")\n",
    "dir(y)"
   ]
  },
  {
   "cell_type": "code",
   "execution_count": 42,
   "metadata": {},
   "outputs": [
    {
     "name": "stdout",
     "output_type": "stream",
     "text": [
      "100\n"
     ]
    }
   ],
   "source": [
    "# Way 3 - import Library\n",
    "from ForModules import Book as b1\n",
    "\n",
    "z= b1(100,\"Advance Python Prog Book\", \"I don't know\")\n",
    "print(z.id)"
   ]
  },
  {
   "cell_type": "code",
   "execution_count": null,
   "metadata": {},
   "outputs": [],
   "source": []
  }
 ],
 "metadata": {
  "kernelspec": {
   "display_name": "Python 3",
   "language": "python",
   "name": "python3"
  },
  "language_info": {
   "codemirror_mode": {
    "name": "ipython",
    "version": 3
   },
   "file_extension": ".py",
   "mimetype": "text/x-python",
   "name": "python",
   "nbconvert_exporter": "python",
   "pygments_lexer": "ipython3",
   "version": "3.7.3"
  }
 },
 "nbformat": 4,
 "nbformat_minor": 2
}
